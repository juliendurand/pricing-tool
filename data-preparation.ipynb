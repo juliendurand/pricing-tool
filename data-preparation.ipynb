{
 "cells": [
  {
   "cell_type": "code",
   "execution_count": 3,
   "metadata": {},
   "outputs": [
    {
     "data": {
      "text/plain": [
       "'{\"transform\": \"def data_transform(row):\\\\n    row[\\'POL_mtcapass\\'] = int(math.log(float(row[\\'POL_mtcapass\\'])))\\\\n\", \"filter\": \"def data_filter(row):\\\\n    return True\\\\n\", \"train\": \"def data_train(row):\\\\n    return row[\\'Random\\'] != \\'9\\' and row[\\'Random\\'] != \\'10\\'\\\\n\"}'"
      ]
     },
     "execution_count": 3,
     "metadata": {},
     "output_type": "execute_result"
    }
   ],
   "source": [
    "import inspect\n",
    "import json\n",
    "import math\n",
    "\n",
    "def data_transform(row):\n",
    "    row['POL_mtcapass'] = int(math.log(float(row['POL_mtcapass'])))\n",
    "    \n",
    "def data_filter(row):\n",
    "    return True\n",
    "\n",
    "def data_train(row):\n",
    "    return row['Random'] != '9' and row['Random'] != '10'\n",
    "\n",
    "json.dumps({\n",
    "    \"transform\": inspect.getsource(data_transform),\n",
    "    \"filter\": inspect.getsource(data_filter),\n",
    "    \"train\": inspect.getsource(data_train),\n",
    "})"
   ]
  },
  {
   "cell_type": "code",
   "execution_count": 8,
   "metadata": {
    "scrolled": true
   },
   "outputs": [
    {
     "name": "stdout",
     "output_type": "stream",
     "text": [
      "Processing config file : ./config/config_dataset.json\n",
      "Starting data importation from ./data/axaf_mrh_tot_freq_tot.csv\n",
      "Importing 8 420 945 lines.\n",
      "Progress:  |██████████████████████████████████████████████████| 100.0% Complete\n",
      "written ./dataset/myproject/features.dat : 1325.088 MB\n",
      "written ./dataset/myproject/column_anpol.dat : 32.123 MB\n",
      "written ./dataset/myproject/column_anpolVOL.dat : 32.123 MB\n",
      "written ./dataset/myproject/column_anpolDEL.dat : 32.123 MB\n",
      "written ./dataset/myproject/column_nbsinDDE.dat : 32.123 MB\n",
      "written ./dataset/myproject/column_nbsinVOL.dat : 32.123 MB\n",
      "written ./dataset/myproject/column_nbsinRC.dat : 32.123 MB\n",
      "written ./dataset/myproject/column_nbsinBDG.dat : 32.123 MB\n",
      "written ./dataset/myproject/column_nbsinDELEC.dat : 32.123 MB\n",
      "written ./dataset/myproject/column_nbsinCATNAT.dat : 32.123 MB\n",
      "written ./dataset/myproject/column_nbsinCATNAT2.dat : 32.123 MB\n",
      "written ./dataset/myproject/column_nbsinCLIM.dat : 32.123 MB\n",
      "written ./dataset/myproject/column_chargeDDEm.dat : 32.123 MB\n",
      "written ./dataset/myproject/column_chargeVOLm.dat : 32.123 MB\n",
      "written ./dataset/myproject/column_chargeRCm.dat : 32.123 MB\n",
      "written ./dataset/myproject/column_chargeBDGm.dat : 32.123 MB\n",
      "written ./dataset/myproject/column_chargeDELECm.dat : 32.123 MB\n",
      "written ./dataset/myproject/column_chargeCATNATm.dat : 32.123 MB\n",
      "written ./dataset/myproject/column_chargeCLIMm.dat : 32.123 MB\n",
      "written ./dataset/myproject/column_chargeINCgr.dat : 32.123 MB\n",
      "written ./dataset/myproject/column_nbsinINCgr.dat : 32.123 MB\n",
      "written ./dataset/myproject/column_chargeINCattri.dat : 32.123 MB\n",
      "written ./dataset/myproject/column_nbsinINCattri.dat : 32.123 MB\n",
      "written ./dataset/myproject/column_nbsinINC.dat : 32.123 MB\n",
      "written ./dataset/myproject/train.dat : 25.706 MB\n",
      "written ./dataset/myproject/test.dat : 6.418 MB\n",
      "Saved dataset to  ./dataset/myproject/dataset.json\n"
     ]
    }
   ],
   "source": [
    "! python src/pypricing/dataset.py ./config/config_dataset.json"
   ]
  },
  {
   "cell_type": "code",
   "execution_count": null,
   "metadata": {},
   "outputs": [],
   "source": []
  }
 ],
 "metadata": {
  "kernelspec": {
   "display_name": "Python 3 (ipykernel)",
   "language": "python",
   "name": "python3"
  },
  "language_info": {
   "codemirror_mode": {
    "name": "ipython",
    "version": 3
   },
   "file_extension": ".py",
   "mimetype": "text/x-python",
   "name": "python",
   "nbconvert_exporter": "python",
   "pygments_lexer": "ipython3",
   "version": "3.9.9"
  }
 },
 "nbformat": 4,
 "nbformat_minor": 2
}
